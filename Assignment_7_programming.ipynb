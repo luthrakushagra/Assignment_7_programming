{
 "cells": [
  {
   "cell_type": "markdown",
   "id": "6c8d51aa",
   "metadata": {},
   "source": [
    "# Assignment_7_programming"
   ]
  },
  {
   "cell_type": "markdown",
   "id": "e6fa90d5",
   "metadata": {},
   "source": [
    "## Write a Python Program to find sum of array?\n",
    "\n",
    "\n",
    "\n"
   ]
  },
  {
   "cell_type": "code",
   "execution_count": 2,
   "id": "1a4b2849",
   "metadata": {},
   "outputs": [
    {
     "name": "stdout",
     "output_type": "stream",
     "text": [
      "38\n"
     ]
    }
   ],
   "source": [
    "a=[3,4,5,6,7,8,5]\n",
    "b=0\n",
    "for i in a:\n",
    "    b=b+i\n",
    "print(b)\n",
    "    \n",
    "\n",
    "    "
   ]
  },
  {
   "cell_type": "code",
   "execution_count": 6,
   "id": "31bb8cac",
   "metadata": {
    "scrolled": true
   },
   "outputs": [
    {
     "name": "stdout",
     "output_type": "stream",
     "text": [
      "38\n"
     ]
    }
   ],
   "source": [
    "a=[3,4,5,6,7,8,5]\n",
    "print(sum(a))"
   ]
  },
  {
   "cell_type": "markdown",
   "id": "b78bc5a1",
   "metadata": {},
   "source": [
    "## Write a Python Program to find largest element in an array?"
   ]
  },
  {
   "cell_type": "code",
   "execution_count": 5,
   "id": "029ac278",
   "metadata": {},
   "outputs": [
    {
     "name": "stdout",
     "output_type": "stream",
     "text": [
      "15\n"
     ]
    }
   ],
   "source": [
    "a=[3,4,5,6,7,8,5,15]\n",
    "print(max(a))"
   ]
  },
  {
   "cell_type": "markdown",
   "id": "36aba5b1",
   "metadata": {},
   "source": [
    "## Write a Python Program for array rotation?"
   ]
  },
  {
   "cell_type": "code",
   "execution_count": 19,
   "id": "2cd5ea8c",
   "metadata": {},
   "outputs": [
    {
     "name": "stdout",
     "output_type": "stream",
     "text": [
      "[15, 5, 8, 7, 6, 5, 4, 3]\n"
     ]
    }
   ],
   "source": [
    "a=[3,4,5,6,7,8,5,15]\n",
    "print(a[::-1])"
   ]
  },
  {
   "cell_type": "markdown",
   "id": "0fd38c3a",
   "metadata": {},
   "source": [
    "##  Write a Python Program to Split the array and add the first part to the end?"
   ]
  },
  {
   "cell_type": "code",
   "execution_count": 1,
   "id": "6e970bd9",
   "metadata": {},
   "outputs": [
    {
     "name": "stdout",
     "output_type": "stream",
     "text": [
      "Enter the array[3,4,5,6]\n",
      "The sum of 3 and 6 is 9\n"
     ]
    }
   ],
   "source": [
    "def sumsplit():\n",
    "    x=eval(input(\"Enter the array\"))\n",
    "    print(f'The sum of {x[0]} and {x[-1]} is {x[0]+x[-1]}')\n",
    "sumsplit()\n"
   ]
  },
  {
   "cell_type": "markdown",
   "id": "f32b7982",
   "metadata": {},
   "source": [
    "## Write a Python Program to check if given array is Monotonic?"
   ]
  },
  {
   "cell_type": "code",
   "execution_count": 23,
   "id": "c3cfa7e4",
   "metadata": {},
   "outputs": [
    {
     "name": "stdout",
     "output_type": "stream",
     "text": [
      "Array is Monotonic\n"
     ]
    }
   ],
   "source": [
    "a=[8,8,5,4,3,2,1,1]\n",
    "if(all(a[i]>=a[i+1] for i in range(len(a)-1)) or all(a[i]<=a[i+1]for i in range(len(a)-1))):\n",
    "    print(\"Array is Monotonic\")\n",
    "else:\n",
    "    print(\"Array is not Monotonic\")\n",
    "    "
   ]
  }
 ],
 "metadata": {
  "kernelspec": {
   "display_name": "Python 3 (ipykernel)",
   "language": "python",
   "name": "python3"
  },
  "language_info": {
   "codemirror_mode": {
    "name": "ipython",
    "version": 3
   },
   "file_extension": ".py",
   "mimetype": "text/x-python",
   "name": "python",
   "nbconvert_exporter": "python",
   "pygments_lexer": "ipython3",
   "version": "3.9.12"
  }
 },
 "nbformat": 4,
 "nbformat_minor": 5
}
